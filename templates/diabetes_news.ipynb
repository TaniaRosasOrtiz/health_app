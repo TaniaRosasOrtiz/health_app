{
 "metadata": {
  "language_info": {
   "codemirror_mode": {
    "name": "ipython",
    "version": 3
   },
   "file_extension": ".py",
   "mimetype": "text/x-python",
   "name": "python",
   "nbconvert_exporter": "python",
   "pygments_lexer": "ipython3",
   "version": "3.6.10"
  },
  "orig_nbformat": 4,
  "kernelspec": {
   "name": "python3",
   "display_name": "Python 3.6.10 64-bit ('pythonData': conda)"
  },
  "interpreter": {
   "hash": "41d256ac06ea2cc0c1e02e961e231e3b4fe87496202209ad90c2f965e084ee63"
  }
 },
 "nbformat": 4,
 "nbformat_minor": 2,
 "cells": [
  {
   "cell_type": "code",
   "execution_count": 1,
   "metadata": {},
   "outputs": [],
   "source": [
    "from splinter import Browser\n",
    "from bs4 import BeautifulSoup as bs\n",
    "from webdriver_manager.chrome import ChromeDriverManager"
   ]
  },
  {
   "cell_type": "code",
   "execution_count": 2,
   "metadata": {},
   "outputs": [
    {
     "output_type": "stream",
     "name": "stderr",
     "text": [
      "[WDM] - ====== WebDriver manager ======\n",
      "[WDM] - Current google-chrome version is 91.0.4472\n",
      "[WDM] - Get LATEST driver version for 91.0.4472\n",
      "\n",
      "\n",
      "[WDM] - Driver [C:\\Users\\marco\\.wdm\\drivers\\chromedriver\\win32\\91.0.4472.101\\chromedriver.exe] found in cache\n"
     ]
    }
   ],
   "source": [
    "# Setup splinter\n",
    "executable_path = {'executable_path':ChromeDriverManager().install()}\n",
    "browser = Browser('chrome', **executable_path, headless=False)"
   ]
  },
  {
   "cell_type": "code",
   "execution_count": 3,
   "metadata": {},
   "outputs": [],
   "source": [
    "url = 'https://www.who.int/news-room/fact-sheets/detail/diabetes'\n",
    "browser.visit(url)"
   ]
  },
  {
   "cell_type": "code",
   "execution_count": 4,
   "metadata": {},
   "outputs": [
    {
     "output_type": "execute_result",
     "data": {
      "text/plain": [
       "['The number of people with diabetes rose from 108 million in 1980 to 422 million in 2014. Prevalence has been rising more rapidly in low- and middle-income countries than in high-income countries.',\n",
       " 'Diabetes is a major cause of blindness, kidney failure, heart attacks, stroke and lower limb amputation.',\n",
       " 'Between 2000 and 2016, there was a 5% increase in premature mortality from diabetes.',\n",
       " 'In 2019, an estimated 1.5 million deaths were directly caused by diabetes. Another 2.2 million deaths were attributable to high blood glucose in 2012.',\n",
       " 'A healthy diet, regular physical activity, maintaining a normal body weight and avoiding tobacco use are ways to prevent or delay the onset of type 2 diabetes.',\n",
       " 'Diabetes can be treated and its consequences avoided or delayed with diet, physical activity, medication and regular screening and treatment for complications.']"
      ]
     },
     "metadata": {},
     "execution_count": 4
    }
   ],
   "source": [
    "html = browser.html\n",
    "soup = bs(html, 'html.parser')\n",
    "\n",
    "kf = soup.find_all('div', class_='list-bold')\n",
    "\n",
    "key_facts = []\n",
    "\n",
    "for key in kf:\n",
    "    k = key.find('ul').text\n",
    "    key_facts.append(k)\n",
    "\n",
    "key_facts = key_facts[0].split('\\n')\n",
    "key_facts.remove('')\n",
    "key_facts.remove('')\n",
    "key_facts"
   ]
  },
  {
   "cell_type": "code",
   "execution_count": 5,
   "metadata": {},
   "outputs": [],
   "source": [
    "browser.quit()"
   ]
  },
  {
   "cell_type": "code",
   "execution_count": null,
   "metadata": {},
   "outputs": [],
   "source": []
  }
 ]
}